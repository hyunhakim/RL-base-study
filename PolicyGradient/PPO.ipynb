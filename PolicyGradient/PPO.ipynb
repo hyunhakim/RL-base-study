{
 "cells": [
  {
   "cell_type": "code",
   "execution_count": 2,
   "metadata": {},
   "outputs": [],
   "source": [
    "import numpy as np\n",
    "import sys\n",
    "if \"../\" not in sys.path:\n",
    "    sys.path.append(\"../\") \n",
    "from keras.layers import Dense, Input\n",
    "from keras.optimizers import Adam\n",
    "from keras.models import Sequential, Model\n",
    "from keras import backend as K\n",
    "import gym"
   ]
  },
  {
   "cell_type": "code",
   "execution_count": 4,
   "metadata": {},
   "outputs": [],
   "source": [
    "class PPO:\n",
    "    def __init__(self, state_size, action_size):\n",
    "        self.state_size = state_size\n",
    "        self.action_size = action_size\n",
    "        self.value_size = 1\n",
    "        \n",
    "        self.gamma = 0.99 # discount factor\n",
    "        self._lambda = 1\n",
    "        self.lr = 5e-4\n",
    "        self.epsilon = 0.2\n",
    "        self.K_epoch = 5\n",
    "        self.T = 20\n",
    "        self.model = self.build_model()\n",
    "        \n",
    "    # policy와 value function의 parameter를 공유하는 모델\n",
    "    def build_model(self):\n",
    "        input_layer = Input(shape=(self.state_size,))\n",
    "        x = Dense(32, activation='relu',\n",
    "                 kernel_initializer='he_uniform')(input_layer)\n",
    "        x = Dense(16, activation='relu',\n",
    "                 kernel_initializer='he_uniform')(x)\n",
    "        x = Dense(8, activation='relu',\n",
    "                 kernel_initializer='he_uniform')(x)\n",
    "        policy_out = Dense(self.action_size, activation='softmax',\n",
    "                      kernel_initializer='he_uniform')(x)\n",
    "        value_out = Dense(self.value_size, activation='linear',\n",
    "                      kernel_initializer='he_uniform')(x)\n",
    "        \n",
    "        model = Model(inputs=input_layer, outputs=[policy_out, value_out])\n",
    "        \n",
    "    '''\n",
    "    만들어야 할 함수\n",
    "    1. sample 추가하는 함수\n",
    "    2. 추가한 sample들 batch로 만드는 함수\n",
    "    3. model optimizer\n",
    "    4. train model 함수\n",
    "    5. advantage function 구하는 함수\n",
    "    6. get_action 함수\n",
    "    '''"
   ]
  }
 ],
 "metadata": {
  "kernelspec": {
   "display_name": "Python 3",
   "language": "python",
   "name": "python3"
  },
  "language_info": {
   "codemirror_mode": {
    "name": "ipython",
    "version": 3
   },
   "file_extension": ".py",
   "mimetype": "text/x-python",
   "name": "python",
   "nbconvert_exporter": "python",
   "pygments_lexer": "ipython3",
   "version": "3.6.5"
  }
 },
 "nbformat": 4,
 "nbformat_minor": 2
}
