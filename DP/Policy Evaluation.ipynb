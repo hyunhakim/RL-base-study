{
 "cells": [
  {
   "cell_type": "code",
   "execution_count": 1,
   "metadata": {},
   "outputs": [],
   "source": [
    "import numpy as np\n",
    "import sys\n",
    "if \"../\" not in sys.path:\n",
    "    sys.path.append(\"../\") \n",
    "from lib.envs.gridworld import GridworldEnv"
   ]
  },
  {
   "cell_type": "code",
   "execution_count": 2,
   "metadata": {},
   "outputs": [],
   "source": [
    "env = GridworldEnv()"
   ]
  },
  {
   "cell_type": "code",
   "execution_count": 3,
   "metadata": {},
   "outputs": [],
   "source": [
    "def policy_eval(policy, env, Value, discount_factor=1.0):\n",
    "    \"\"\"\n",
    "    Evaluate a policy given an environment and a full description of the environment's dynamics.\n",
    "    \n",
    "    Args:\n",
    "        policy: [S, A] shaped matrix representing the policy.\n",
    "        env: OpenAI env. env.P represents the transition probabilities of the environment.\n",
    "            env.P[s][a] is a list of transition tuples (prob, next_state, reward, done).\n",
    "            env.nS is a number of states in the environment. \n",
    "            env.nA is a number of actions in the environment.\n",
    "        theta: We stop evaluation once our value function change is less than theta for all states.\n",
    "        discount_factor: Gamma discount factor.\n",
    "    \n",
    "    Returns:\n",
    "        Vector of length env.nS representing the value function.\n",
    "    \"\"\"\n",
    "    for s in range(env.nS):\n",
    "        v = 0\n",
    "        for a, a_prob in enumerate(policy[s]):\n",
    "            for prob, next_state, reward, done in env.P[s][a]:\n",
    "                v += a_prob * (reward + discount_factor * prob * Value[next_state])\n",
    "\n",
    "        # delta = max(delta, abs(s - V[s]))\n",
    "        Value[s] = v\n",
    "        \n",
    "    return np.array(Value)"
   ]
  },
  {
   "cell_type": "code",
   "execution_count": 4,
   "metadata": {},
   "outputs": [],
   "source": [
    "random_policy = np.ones([env.nS, env.nA]) / env.nA\n",
    "Value = np.zeros(env.nS)"
   ]
  },
  {
   "cell_type": "code",
   "execution_count": 5,
   "metadata": {},
   "outputs": [
    {
     "name": "stdout",
     "output_type": "stream",
     "text": [
      "k = 0\n",
      "[[ 0.        -1.        -1.25      -1.3125   ]\n",
      " [-1.        -1.5       -1.6875    -1.75     ]\n",
      " [-1.25      -1.6875    -1.84375   -1.8984375]\n",
      " [-1.3125    -1.75      -1.8984375  0.       ]]\n",
      "\n",
      "k = 1\n",
      "[[ 0.         -1.9375     -2.546875   -2.73046875]\n",
      " [-1.9375     -2.8125     -3.23828125 -3.40429688]\n",
      " [-2.546875   -3.23828125 -3.56835938 -3.21777344]\n",
      " [-2.73046875 -3.40429688 -3.21777344  0.        ]]\n",
      "\n",
      "k = 2\n",
      "[[ 0.         -2.82421875 -3.83496094 -4.17504883]\n",
      " [-2.82421875 -4.03125    -4.7097168  -4.87670898]\n",
      " [-3.83496094 -4.7097168  -4.96374512 -4.26455688]\n",
      " [-4.17504883 -4.87670898 -4.26455688  0.        ]]\n",
      "\n",
      "k = 3\n",
      "[[ 0.         -3.67260742 -5.0980835  -5.58122253]\n",
      " [-3.67260742 -5.19116211 -6.03242493 -6.18872833]\n",
      " [-5.0980835  -6.03242493 -6.14849091 -5.15044403]\n",
      " [-5.58122253 -6.18872833 -5.15044403  0.        ]]\n",
      "\n",
      "k = 4\n",
      "[[ 0.         -4.49046326 -6.30054855 -6.91293049]\n",
      " [-4.49046326 -6.26144409 -7.22480297 -7.36922646]\n",
      " [-6.30054855 -7.22480297 -7.1876235  -5.9268235 ]\n",
      " [-6.91293049 -7.36922646 -5.9268235   0.        ]]\n",
      "\n",
      "k = 5\n",
      "[[ 0.         -5.26311398 -7.425349   -8.15510911]\n",
      " [-5.26311398 -7.24395847 -8.30653936 -8.4394246 ]\n",
      " [-7.425349   -8.30653936 -8.11668143 -6.62073238]\n",
      " [-8.15510911 -8.4394246  -6.62073238  0.        ]]\n",
      "\n",
      "k = 6\n",
      "[[ 0.         -5.98310536 -8.46752571 -9.30429213]\n",
      " [-5.98310536 -8.14482236 -9.29211352 -9.41414066]\n",
      " [-8.46752571 -9.29211352 -8.95642295 -7.247824  ]\n",
      " [-9.30429213 -9.41414066 -7.247824    0.        ]]\n",
      "\n",
      "k = 7\n",
      "[[  0.          -6.64886336  -9.42819868 -10.3627309 ]\n",
      " [ -6.64886336  -8.97048844 -10.19231268 -10.30425206]\n",
      " [ -9.42819868 -10.19231268  -9.72006834  -7.8180361 ]\n",
      " [-10.3627309  -10.30425206  -7.8180361    0.        ]]\n",
      "\n",
      "k = 8\n",
      "[[  0.          -7.26188762 -10.31128247 -11.33524908]\n",
      " [ -7.26188762  -9.72710015 -11.01567576 -11.11830325]\n",
      " [-10.31128247 -11.01567576 -10.41685593  -8.33829882]\n",
      " [-11.33524908 -11.11830325  -8.33829882   0.        ]]\n",
      "\n",
      "k = 9\n",
      "[[  0.          -7.82506756 -11.12181872 -12.22765503]\n",
      " [ -7.82506756 -10.42037166 -11.76933739 -11.86339862]\n",
      " [-11.12181872 -11.76933739 -11.0538181   -8.81387889]\n",
      " [-12.22765503 -11.86339862  -8.81387889   0.        ]]\n",
      "\n",
      "k = 10\n",
      "[[  0.          -8.34181448 -11.86515641 -13.04596627]\n",
      " [ -8.34181448 -11.05557594 -12.45948727 -12.54568276]\n",
      " [-11.86515641 -12.45948727 -11.63668308  -9.24906118]\n",
      " [-13.04596627 -12.54568276  -9.24906118   0.        ]]\n",
      "\n"
     ]
    }
   ],
   "source": [
    "for k in range(11):\n",
    "    Value = policy_eval(random_policy, env, Value)\n",
    "    print(\"k = {}\".format(k))\n",
    "    print(Value.reshape(env.shape))\n",
    "    print(\"\")"
   ]
  }
 ],
 "metadata": {
  "kernelspec": {
   "display_name": "Python 3",
   "language": "python",
   "name": "python3"
  },
  "language_info": {
   "codemirror_mode": {
    "name": "ipython",
    "version": 3
   },
   "file_extension": ".py",
   "mimetype": "text/x-python",
   "name": "python",
   "nbconvert_exporter": "python",
   "pygments_lexer": "ipython3",
   "version": "3.7.3"
  }
 },
 "nbformat": 4,
 "nbformat_minor": 2
}
